{
  "nbformat": 4,
  "nbformat_minor": 0,
  "metadata": {
    "colab": {
      "name": "Test_EVA_4_session_optimisation_MNIST.ipynb",
      "provenance": [],
      "collapsed_sections": []
    },
    "kernelspec": {
      "name": "python3",
      "display_name": "Python 3"
    },
    "language_info": {
      "name": "python"
    },
    "accelerator": "GPU"
  },
  "cells": [
    {
      "cell_type": "markdown",
      "metadata": {
        "id": "y1W8RCyaPWDQ"
      },
      "source": [
        "### Import Libraries"
      ]
    },
    {
      "cell_type": "code",
      "metadata": {
        "id": "VemEEQWVXM1_"
      },
      "source": [
        "from __future__ import print_function\n",
        "import torch\n",
        "import torch.nn as nn\n",
        "import torch.nn.functional as F\n",
        "import torch.optim as optim\n",
        "from torchvision import datasets, transforms\n",
        "import matplotlib.pyplot as plt\n",
        "import numpy as np\n",
        "import random"
      ],
      "execution_count": 1,
      "outputs": []
    },
    {
      "cell_type": "markdown",
      "metadata": {
        "id": "ErbTfT6TPZl3"
      },
      "source": [
        "### Seed Everthing for Reproducibility"
      ]
    },
    {
      "cell_type": "code",
      "metadata": {
        "id": "l1rqCp46_VDl"
      },
      "source": [
        "def seed_everything(seed):\n",
        "    random.seed(seed)\n",
        "    np.random.seed(seed)\n",
        "    torch.manual_seed(seed)\n",
        "    torch.cuda.manual_seed(seed)\n",
        "    torch.cuda.manual_seed_all(seed)\n",
        "    torch.backends.cudnn.deterministic = True\n",
        "\n",
        "seed_everything(0)"
      ],
      "execution_count": 2,
      "outputs": []
    },
    {
      "cell_type": "markdown",
      "metadata": {
        "id": "usBcL6ygPgta"
      },
      "source": [
        "### Model"
      ]
    },
    {
      "cell_type": "code",
      "metadata": {
        "id": "C3BsayhbXN44"
      },
      "source": [
        "class Net(nn.Module):\n",
        "    '''\n",
        "    Defining model.\n",
        "    1. Try to use minimal number of convolutions, with less channels, in accordance with RF required\n",
        "    2. Used Transition layer with MaxPool and Pointwise convolution\n",
        "    3. Used GAP layer, instead of linear to get data to 1D. THEN used a fully connected\n",
        "    4. Added BN, Dropout(10%), Augmentations - RandomAffine\n",
        "    '''\n",
        "    def __init__(self):\n",
        "        super(Net, self).__init__()\n",
        "\n",
        "        # convolution block 1        \n",
        "        self.conv_block_1 = nn.Sequential(\n",
        "            nn.Conv2d(1, 8, 3),\n",
        "            nn.ReLU(),\n",
        "            nn.BatchNorm2d(8),\n",
        "            nn.Dropout(0.10),\n",
        "\n",
        "            nn.Conv2d(8, 16, 3),\n",
        "            nn.ReLU(),\n",
        "            nn.BatchNorm2d(16),\n",
        "            nn.Dropout(0.10)\n",
        "        )\n",
        "\n",
        "        # convolution block 2\n",
        "        self.conv_block_2 = nn.Sequential(\n",
        "\n",
        "            nn.Conv2d(16, 32, 3),\n",
        "            nn.ReLU(),\n",
        "            nn.BatchNorm2d(32),\n",
        "            nn.Dropout(0.10)\n",
        "\n",
        "        )\n",
        "\n",
        "        # transition block 1\n",
        "        self.transition_1 = nn.Sequential(\n",
        "            nn.Conv2d(in_channels= 32,out_channels= 16, kernel_size =1),\n",
        "            nn.ReLU(),\n",
        "            nn.MaxPool2d(2, 2)\n",
        "        )\n",
        "        \n",
        "        # convolution block 3\n",
        "        self.conv_block_3 = nn.Sequential(\n",
        "            nn.Conv2d(16, 16, 3),\n",
        "            nn.ReLU(),\n",
        "            nn.BatchNorm2d(16),\n",
        "            nn.Dropout(0.10), \n",
        "\n",
        "            nn.Conv2d(16, 32, 3),\n",
        "            nn.ReLU(),            \n",
        "            nn.BatchNorm2d(32),\n",
        "            nn.Dropout(0.10)\n",
        "        )\n",
        "        # fully connected\n",
        "        self.fc1 = nn.Linear(32,10)\n",
        "\n",
        "\n",
        "    def forward(self, x):\n",
        "\n",
        "        x = self.conv_block_1(x)\n",
        "        x = self.conv_block_2(x)\n",
        "        x = self.transition_1(x)\n",
        "        x = self.conv_block_3(x)\n",
        " \n",
        "        # GAP \n",
        "        x = F.adaptive_avg_pool2d(x, (1, 1))  # Input - 7x7x32 -> Output - 1x1x32\n",
        "\n",
        "        # reshape using flatten\n",
        "        x = torch.flatten(x, 1)\n",
        "\n",
        "        # Fully connected layer\n",
        "        x = self.fc1(x) # 1x1x32 -> 1x1x10\n",
        "\n",
        "        x = x.view(-1, 10)\n",
        "\n",
        "        return F.log_softmax(x)"
      ],
      "execution_count": 3,
      "outputs": []
    },
    {
      "cell_type": "markdown",
      "metadata": {
        "id": "zL4PdpS0PtfE"
      },
      "source": [
        "### Input Shape, Output Shape and RF\n",
        "\n",
        "```\n",
        "-------------------------------------------------------------------------------------------------------\n",
        "        Layer (type)               Output Shape         Param         Input      Output      LRF     GRF\n",
        "=======================================================================================================\n",
        "            Conv2d-1            [-1, 8, 26, 26]              80     28x28x1     26x26x8    3x3      3x3\n",
        "              ReLU-2            [-1, 8, 26, 26]               0    \n",
        "       BatchNorm2d-3            [-1, 8, 26, 26]              16\n",
        "           Dropout-4            [-1, 8, 26, 26]               0     \n",
        "            Conv2d-5           [-1, 16, 24, 24]           1,168     26x26x8     24x24x16   3x3      5x5\n",
        "              ReLU-6           [-1, 16, 24, 24]               0\n",
        "       BatchNorm2d-7           [-1, 16, 24, 24]              32\n",
        "           Dropout-8           [-1, 16, 24, 24]               0\n",
        "            Conv2d-9           [-1, 32, 22, 22]           4,640     24x24x16    22x22x32   3x3      7x7\n",
        "             ReLU-10           [-1, 32, 22, 22]               0\n",
        "      BatchNorm2d-11           [-1, 32, 22, 22]              64\n",
        "          Dropout-12           [-1, 32, 22, 22]               0\n",
        "           Conv2d-13           [-1, 16, 22, 22]             528    22x22x32    22x22x16    3x3      7x7\n",
        "             ReLU-14           [-1, 16, 22, 22]               0\n",
        "        MaxPool2d-15           [-1, 16, 11, 11]               0                                     14x14\n",
        "           Conv2d-16             [-1, 16, 9, 9]           2,320    11x11x16    9x9x16      3x3      16x16\n",
        "             ReLU-17             [-1, 16, 9, 9]               0\n",
        "      BatchNorm2d-18             [-1, 16, 9, 9]              32\n",
        "          Dropout-19             [-1, 16, 9, 9]               0\n",
        "           Conv2d-20             [-1, 32, 7, 7]           4,640    9x9x16      7x7x32      3x3     18x18\n",
        "             ReLU-21             [-1, 32, 7, 7]               0\n",
        "```"
      ]
    },
    {
      "cell_type": "markdown",
      "metadata": {
        "id": "3MlMHfx5QTB8"
      },
      "source": [
        "### Model Summary"
      ]
    },
    {
      "cell_type": "code",
      "metadata": {
        "colab": {
          "base_uri": "https://localhost:8080/"
        },
        "id": "gg0JzFlEXN7L",
        "outputId": "9957fc70-6d6d-4899-9652-708958f874d3"
      },
      "source": [
        "from torchsummary import summary\n",
        "use_cuda = torch.cuda.is_available()\n",
        "device = torch.device(\"cuda\" if use_cuda else \"cpu\")\n",
        "model = Net().to(device)\n",
        "summary(model, input_size=(1, 28, 28))"
      ],
      "execution_count": 4,
      "outputs": [
        {
          "output_type": "stream",
          "text": [
            "----------------------------------------------------------------\n",
            "        Layer (type)               Output Shape         Param #\n",
            "================================================================\n",
            "            Conv2d-1            [-1, 8, 26, 26]              80\n",
            "              ReLU-2            [-1, 8, 26, 26]               0\n",
            "       BatchNorm2d-3            [-1, 8, 26, 26]              16\n",
            "           Dropout-4            [-1, 8, 26, 26]               0\n",
            "            Conv2d-5           [-1, 16, 24, 24]           1,168\n",
            "              ReLU-6           [-1, 16, 24, 24]               0\n",
            "       BatchNorm2d-7           [-1, 16, 24, 24]              32\n",
            "           Dropout-8           [-1, 16, 24, 24]               0\n",
            "            Conv2d-9           [-1, 32, 22, 22]           4,640\n",
            "             ReLU-10           [-1, 32, 22, 22]               0\n",
            "      BatchNorm2d-11           [-1, 32, 22, 22]              64\n",
            "          Dropout-12           [-1, 32, 22, 22]               0\n",
            "           Conv2d-13           [-1, 16, 22, 22]             528\n",
            "             ReLU-14           [-1, 16, 22, 22]               0\n",
            "        MaxPool2d-15           [-1, 16, 11, 11]               0\n",
            "           Conv2d-16             [-1, 16, 9, 9]           2,320\n",
            "             ReLU-17             [-1, 16, 9, 9]               0\n",
            "      BatchNorm2d-18             [-1, 16, 9, 9]              32\n",
            "          Dropout-19             [-1, 16, 9, 9]               0\n",
            "           Conv2d-20             [-1, 32, 7, 7]           4,640\n",
            "             ReLU-21             [-1, 32, 7, 7]               0\n",
            "      BatchNorm2d-22             [-1, 32, 7, 7]              64\n",
            "          Dropout-23             [-1, 32, 7, 7]               0\n",
            "           Linear-24                   [-1, 10]             330\n",
            "================================================================\n",
            "Total params: 13,914\n",
            "Trainable params: 13,914\n",
            "Non-trainable params: 0\n",
            "----------------------------------------------------------------\n",
            "Input size (MB): 0.00\n",
            "Forward/backward pass size (MB): 1.14\n",
            "Params size (MB): 0.05\n",
            "Estimated Total Size (MB): 1.20\n",
            "----------------------------------------------------------------\n"
          ],
          "name": "stdout"
        },
        {
          "output_type": "stream",
          "text": [
            "/usr/local/lib/python3.7/dist-packages/ipykernel_launcher.py:77: UserWarning: Implicit dimension choice for log_softmax has been deprecated. Change the call to include dim=X as an argument.\n"
          ],
          "name": "stderr"
        }
      ]
    },
    {
      "cell_type": "markdown",
      "metadata": {
        "id": "I4dV2MRIQWaE"
      },
      "source": [
        "### Train and Test Dataset"
      ]
    },
    {
      "cell_type": "code",
      "metadata": {
        "id": "pMhnGNmEXN9a"
      },
      "source": [
        "batch_size = 128\n",
        "\n",
        "kwargs = {'num_workers': 1, 'pin_memory': True} if use_cuda else {}\n",
        "\n",
        "train_dataset = datasets.MNIST('./data', train=True, download=True,\n",
        "                    transform=transforms.Compose([\n",
        "                        transforms.RandomAffine(degrees=10, translate=(0.1,0.1), scale=(0.9, 1.1)),\n",
        "                        # transforms.RandomCrop(28 , padding = 1),\n",
        "                        transforms.ToTensor(),\n",
        "                        transforms.Normalize((0.1307,), (0.3081,))\n",
        "                    ]))\n",
        "\n",
        "test_dataset = datasets.MNIST('./data', train=False, transform=transforms.Compose([\n",
        "                        transforms.ToTensor(),\n",
        "                        transforms.Normalize((0.1307,), (0.3081,))\n",
        "                    ]))"
      ],
      "execution_count": 5,
      "outputs": []
    },
    {
      "cell_type": "markdown",
      "metadata": {
        "id": "9GByAwcEQaRF"
      },
      "source": [
        "### Train and Test DataLoaders"
      ]
    },
    {
      "cell_type": "code",
      "metadata": {
        "id": "iA4pxuWNLag_"
      },
      "source": [
        "train_loader = torch.utils.data.DataLoader(train_dataset, batch_size=batch_size, shuffle=True, **kwargs)\n",
        "test_loader = torch.utils.data.DataLoader(test_dataset, batch_size=batch_size, shuffle=True, **kwargs)"
      ],
      "execution_count": 6,
      "outputs": []
    },
    {
      "cell_type": "markdown",
      "metadata": {
        "id": "uTookTehQ6e2"
      },
      "source": [
        "### Sample Data"
      ]
    },
    {
      "cell_type": "code",
      "metadata": {
        "colab": {
          "base_uri": "https://localhost:8080/",
          "height": 282
        },
        "id": "PuJfQtf8MLDl",
        "outputId": "c1df5def-91c3-4493-cf70-a324beb6c079"
      },
      "source": [
        "def show_sample(img, target):\n",
        "    plt.imshow(torch.squeeze(img, axis=0), cmap='gray')\n",
        "    print('Label:', target)\n",
        "\n",
        "show_sample(*train_dataset[0])"
      ],
      "execution_count": 7,
      "outputs": [
        {
          "output_type": "stream",
          "text": [
            "Label: 5\n"
          ],
          "name": "stdout"
        },
        {
          "output_type": "display_data",
          "data": {
            "image/png": "[encoded data removed]",
            "text/plain": [
              "<Figure size 432x288 with 1 Axes>"
            ]
          },
          "metadata": {
            "tags": [],
            "needs_background": "light"
          }
        }
      ]
    },
    {
      "cell_type": "markdown",
      "metadata": {
        "id": "VDCoxnkgQ_5i"
      },
      "source": [
        "### Batch Data"
      ]
    },
    {
      "cell_type": "code",
      "metadata": {
        "colab": {
          "base_uri": "https://localhost:8080/",
          "height": 482
        },
        "id": "pet7g10kNopz",
        "outputId": "d221c4dc-f09e-4354-9c1c-f01c4c95085d"
      },
      "source": [
        "def show_batch(dl):\n",
        "    images, labels = next(iter(dl))\n",
        "    plt.figure(figsize=(8, 8))\n",
        "    for i in range(16):\n",
        "        ax = plt.subplot(4, 4, i + 1)\n",
        "        ax.imshow(torch.squeeze(images[i], axis=0), cmap='gray')\n",
        "        plt.title(f'Label: {labels[i].item()}')\n",
        "        plt.axis('off')\n",
        "\n",
        "show_batch(train_loader)"
      ],
      "execution_count": 8,
      "outputs": [
        {
          "output_type": "display_data",
          "data": {
            "image/png": "[encoded data removed]",
            "text/plain": [
              "<Figure size 576x576 with 16 Axes>"
            ]
          },
          "metadata": {
            "tags": [],
            "needs_background": "light"
          }
        }
      ]
    },
    {
      "cell_type": "markdown",
      "metadata": {
        "id": "MuOmx98tQdlX"
      },
      "source": [
        "### Train and Test Statistics"
      ]
    },
    {
      "cell_type": "code",
      "metadata": {
        "colab": {
          "base_uri": "https://localhost:8080/"
        },
        "id": "F5LCHapaKQRg",
        "outputId": "f8661e89-fcf6-4d5f-a7a2-94e19b83d8ca"
      },
      "source": [
        "def data_stats(dataset, train=True):\n",
        "    train_data = dataset.data\n",
        "\n",
        "    print('[Train]' if train else '[Test]')\n",
        "    print(' - Numpy Shape:', train_data.cpu().numpy().shape)\n",
        "    print(' - Tensor Shape:', train_data.size())\n",
        "    print(' - min:', torch.min(train_data))\n",
        "    print(' - max:', torch.max(train_data))\n",
        "    print(' - mean:', train_data.cpu().numpy().mean())\n",
        "    print(' - std:', train_data.cpu().numpy().std())\n",
        "    print(' - var:', train_data.cpu().numpy().var())\n",
        "\n",
        "data_stats(train_dataset)\n",
        "print('\\n')\n",
        "data_stats(test_dataset, train=False)"
      ],
      "execution_count": 9,
      "outputs": [
        {
          "output_type": "stream",
          "text": [
            "[Train]\n",
            " - Numpy Shape: (60000, 28, 28)\n",
            " - Tensor Shape: torch.Size([60000, 28, 28])\n",
            " - min: tensor(0, dtype=torch.uint8)\n",
            " - max: tensor(255, dtype=torch.uint8)\n",
            " - mean: 33.318421449829934\n",
            " - std: 78.56748998339798\n",
            " - var: 6172.850482291342\n",
            "\n",
            "\n",
            "[Test]\n",
            " - Numpy Shape: (10000, 28, 28)\n",
            " - Tensor Shape: torch.Size([10000, 28, 28])\n",
            " - min: tensor(0, dtype=torch.uint8)\n",
            " - max: tensor(255, dtype=torch.uint8)\n",
            " - mean: 33.791224489795916\n",
            " - std: 79.17246322228644\n",
            " - var: 6268.278932684298\n"
          ],
          "name": "stdout"
        }
      ]
    },
    {
      "cell_type": "markdown",
      "metadata": {
        "id": "RdubMUE0Qufr"
      },
      "source": [
        "### Train and Test Loops"
      ]
    },
    {
      "cell_type": "code",
      "metadata": {
        "id": "FaK1EcEl2f-_"
      },
      "source": [
        "from tqdm import tqdm\n",
        "def train(model, device, train_loader, optimizer, epoch):\n",
        "    correct = 0\n",
        "    model.train()\n",
        "    pbar = tqdm(train_loader)\n",
        "    per_batch_loss = []\n",
        "\n",
        "    for batch_idx, (data, target) in enumerate(pbar):\n",
        "        data, target = data.to(device), target.to(device)\n",
        "        optimizer.zero_grad()\n",
        "        output = model(data)\n",
        "\n",
        "        pred = output.argmax(dim=1, keepdim=True)          \n",
        "        correct += pred.eq(target.view_as(pred)).sum().item()\n",
        "\n",
        "        loss = F.nll_loss(output, target)\n",
        "        per_batch_loss.append(loss.item())\n",
        "        loss.backward()\n",
        "        optimizer.step()\n",
        "\n",
        "        pbar.set_description(desc= f'epoch={epoch} Loss={loss.item()} batch_id={batch_idx:05d}')\n",
        "    \n",
        "    per_epoch_loss = sum(per_batch_loss)/len(per_batch_loss)\n",
        "    per_epoch_accuracy = 100.*( correct / len(train_loader.dataset))\n",
        "    \n",
        "    return per_epoch_loss, per_epoch_accuracy\n",
        "\n",
        "def test(model, device, test_loader):\n",
        "    model.eval()\n",
        "    test_loss = 0\n",
        "    correct = 0\n",
        "    with torch.no_grad():\n",
        "        for data, target in test_loader:\n",
        "            data, target = data.to(device), target.to(device)\n",
        "            output = model(data)\n",
        "            test_loss += F.nll_loss(output, target, reduction='sum').item()  # sum up batch loss\n",
        "            pred = output.argmax(dim=1, keepdim=True)  # get the index of the max log-probability\n",
        "            correct += pred.eq(target.view_as(pred)).sum().item()\n",
        "        \n",
        "\n",
        "    test_loss /= len(test_loader.dataset)\n",
        "\n",
        "    print('\\nTest set: Average loss: {:.4f}, Accuracy: {}/{} ({:.2f}%)\\n'.format(\n",
        "        test_loss, correct, len(test_loader.dataset),\n",
        "        100. * correct / len(test_loader.dataset)))\n",
        "\n",
        "\n",
        "    return test_loss , 100. * correct / len(test_loader.dataset)\n"
      ],
      "execution_count": 7,
      "outputs": []
    },
    {
      "cell_type": "markdown",
      "metadata": {
        "id": "l1xcIrG4Qy_S"
      },
      "source": [
        "### Model Training"
      ]
    },
    {
      "cell_type": "code",
      "metadata": {
        "colab": {
          "base_uri": "https://localhost:8080/"
        },
        "id": "CWl3Yzi0XN_w",
        "outputId": "d740ef59-8eb0-452b-f90b-6123596a2559"
      },
      "source": [
        "model = Net().to(device)\n",
        "optimizer = optim.SGD(model.parameters(), lr=0.018, momentum=0.9)\n",
        "loss_train = []\n",
        "accuracy_train = []\n",
        "loss_test = []\n",
        "accuracy_test = []\n",
        "epochs = 19\n",
        "for epoch in range(0, epochs):\n",
        "    print('============== EPOCH ', epoch)\n",
        "    loss_train_epoch,accuracy_train_epoch = train(model, device, train_loader, optimizer, epoch)\n",
        "    loss_test_epoch, accuracy_test_epoch = test(model, device, test_loader)\n",
        "    \n",
        "    \n",
        "    loss_train.append(loss_train_epoch)\n",
        "    accuracy_train.append(accuracy_train_epoch)\n",
        "\n",
        "    loss_test.append(loss_test_epoch)\n",
        "    accuracy_test.append(accuracy_test_epoch)\n"
      ],
      "execution_count": 8,
      "outputs": [
        {
          "output_type": "stream",
          "text": [
            "\r  0%|          | 0/469 [00:00<?, ?it/s]"
          ],
          "name": "stderr"
        },
        {
          "output_type": "stream",
          "text": [
            "============== EPOCH  0\n"
          ],
          "name": "stdout"
        },
        {
          "output_type": "stream",
          "text": [
            "/usr/local/lib/python3.7/dist-packages/ipykernel_launcher.py:77: UserWarning: Implicit dimension choice for log_softmax has been deprecated. Change the call to include dim=X as an argument.\n",
            "epoch=0 Loss=0.0892619788646698 batch_id=00468: 100%|██████████| 469/469 [00:17<00:00, 26.24it/s]\n",
            "  0%|          | 0/469 [00:00<?, ?it/s]"
          ],
          "name": "stderr"
        },
        {
          "output_type": "stream",
          "text": [
            "\n",
            "Test set: Average loss: 0.1428, Accuracy: 9560/10000 (95.60%)\n",
            "\n",
            "============== EPOCH  1\n"
          ],
          "name": "stdout"
        },
        {
          "output_type": "stream",
          "text": [
            "epoch=1 Loss=0.11490592360496521 batch_id=00468: 100%|██████████| 469/469 [00:17<00:00, 26.41it/s]\n",
            "  0%|          | 0/469 [00:00<?, ?it/s]"
          ],
          "name": "stderr"
        },
        {
          "output_type": "stream",
          "text": [
            "\n",
            "Test set: Average loss: 0.0440, Accuracy: 9880/10000 (98.80%)\n",
            "\n",
            "============== EPOCH  2\n"
          ],
          "name": "stdout"
        },
        {
          "output_type": "stream",
          "text": [
            "epoch=2 Loss=0.09968846291303635 batch_id=00468: 100%|██████████| 469/469 [00:17<00:00, 26.06it/s]\n",
            "  0%|          | 0/469 [00:00<?, ?it/s]"
          ],
          "name": "stderr"
        },
        {
          "output_type": "stream",
          "text": [
            "\n",
            "Test set: Average loss: 0.0438, Accuracy: 9881/10000 (98.81%)\n",
            "\n",
            "============== EPOCH  3\n"
          ],
          "name": "stdout"
        },
        {
          "output_type": "stream",
          "text": [
            "epoch=3 Loss=0.1281680315732956 batch_id=00468: 100%|██████████| 469/469 [00:17<00:00, 26.06it/s]\n",
            "  0%|          | 0/469 [00:00<?, ?it/s]"
          ],
          "name": "stderr"
        },
        {
          "output_type": "stream",
          "text": [
            "\n",
            "Test set: Average loss: 0.0371, Accuracy: 9896/10000 (98.96%)\n",
            "\n",
            "============== EPOCH  4\n"
          ],
          "name": "stdout"
        },
        {
          "output_type": "stream",
          "text": [
            "epoch=4 Loss=0.026898883283138275 batch_id=00468: 100%|██████████| 469/469 [00:18<00:00, 25.88it/s]\n",
            "  0%|          | 0/469 [00:00<?, ?it/s]"
          ],
          "name": "stderr"
        },
        {
          "output_type": "stream",
          "text": [
            "\n",
            "Test set: Average loss: 0.0339, Accuracy: 9893/10000 (98.93%)\n",
            "\n",
            "============== EPOCH  5\n"
          ],
          "name": "stdout"
        },
        {
          "output_type": "stream",
          "text": [
            "epoch=5 Loss=0.023440925404429436 batch_id=00468: 100%|██████████| 469/469 [00:18<00:00, 25.79it/s]\n",
            "  0%|          | 0/469 [00:00<?, ?it/s]"
          ],
          "name": "stderr"
        },
        {
          "output_type": "stream",
          "text": [
            "\n",
            "Test set: Average loss: 0.0269, Accuracy: 9920/10000 (99.20%)\n",
            "\n",
            "============== EPOCH  6\n"
          ],
          "name": "stdout"
        },
        {
          "output_type": "stream",
          "text": [
            "epoch=6 Loss=0.10947438329458237 batch_id=00468: 100%|██████████| 469/469 [00:18<00:00, 25.83it/s]\n",
            "  0%|          | 0/469 [00:00<?, ?it/s]"
          ],
          "name": "stderr"
        },
        {
          "output_type": "stream",
          "text": [
            "\n",
            "Test set: Average loss: 0.0245, Accuracy: 9925/10000 (99.25%)\n",
            "\n",
            "============== EPOCH  7\n"
          ],
          "name": "stdout"
        },
        {
          "output_type": "stream",
          "text": [
            "epoch=7 Loss=0.0479891411960125 batch_id=00468: 100%|██████████| 469/469 [00:18<00:00, 25.97it/s]\n",
            "  0%|          | 0/469 [00:00<?, ?it/s]"
          ],
          "name": "stderr"
        },
        {
          "output_type": "stream",
          "text": [
            "\n",
            "Test set: Average loss: 0.0290, Accuracy: 9916/10000 (99.16%)\n",
            "\n",
            "============== EPOCH  8\n"
          ],
          "name": "stdout"
        },
        {
          "output_type": "stream",
          "text": [
            "epoch=8 Loss=0.015595833770930767 batch_id=00468: 100%|██████████| 469/469 [00:18<00:00, 25.84it/s]\n",
            "  0%|          | 0/469 [00:00<?, ?it/s]"
          ],
          "name": "stderr"
        },
        {
          "output_type": "stream",
          "text": [
            "\n",
            "Test set: Average loss: 0.0246, Accuracy: 9926/10000 (99.26%)\n",
            "\n",
            "============== EPOCH  9\n"
          ],
          "name": "stdout"
        },
        {
          "output_type": "stream",
          "text": [
            "epoch=9 Loss=0.05713915452361107 batch_id=00468: 100%|██████████| 469/469 [00:17<00:00, 26.13it/s]\n",
            "  0%|          | 0/469 [00:00<?, ?it/s]"
          ],
          "name": "stderr"
        },
        {
          "output_type": "stream",
          "text": [
            "\n",
            "Test set: Average loss: 0.0241, Accuracy: 9921/10000 (99.21%)\n",
            "\n",
            "============== EPOCH  10\n"
          ],
          "name": "stdout"
        },
        {
          "output_type": "stream",
          "text": [
            "epoch=10 Loss=0.018694132566452026 batch_id=00468: 100%|██████████| 469/469 [00:18<00:00, 25.73it/s]\n",
            "  0%|          | 0/469 [00:00<?, ?it/s]"
          ],
          "name": "stderr"
        },
        {
          "output_type": "stream",
          "text": [
            "\n",
            "Test set: Average loss: 0.0201, Accuracy: 9939/10000 (99.39%)\n",
            "\n",
            "============== EPOCH  11\n"
          ],
          "name": "stdout"
        },
        {
          "output_type": "stream",
          "text": [
            "epoch=11 Loss=0.015891270712018013 batch_id=00468: 100%|██████████| 469/469 [00:18<00:00, 25.93it/s]\n",
            "  0%|          | 0/469 [00:00<?, ?it/s]"
          ],
          "name": "stderr"
        },
        {
          "output_type": "stream",
          "text": [
            "\n",
            "Test set: Average loss: 0.0212, Accuracy: 9937/10000 (99.37%)\n",
            "\n",
            "============== EPOCH  12\n"
          ],
          "name": "stdout"
        },
        {
          "output_type": "stream",
          "text": [
            "epoch=12 Loss=0.020542984828352928 batch_id=00468: 100%|██████████| 469/469 [00:17<00:00, 26.22it/s]\n",
            "  0%|          | 0/469 [00:00<?, ?it/s]"
          ],
          "name": "stderr"
        },
        {
          "output_type": "stream",
          "text": [
            "\n",
            "Test set: Average loss: 0.0210, Accuracy: 9937/10000 (99.37%)\n",
            "\n",
            "============== EPOCH  13\n"
          ],
          "name": "stdout"
        },
        {
          "output_type": "stream",
          "text": [
            "epoch=13 Loss=0.02206062525510788 batch_id=00468: 100%|██████████| 469/469 [00:17<00:00, 26.45it/s]\n",
            "  0%|          | 0/469 [00:00<?, ?it/s]"
          ],
          "name": "stderr"
        },
        {
          "output_type": "stream",
          "text": [
            "\n",
            "Test set: Average loss: 0.0193, Accuracy: 9944/10000 (99.44%)\n",
            "\n",
            "============== EPOCH  14\n"
          ],
          "name": "stdout"
        },
        {
          "output_type": "stream",
          "text": [
            "epoch=14 Loss=0.013751081191003323 batch_id=00468: 100%|██████████| 469/469 [00:17<00:00, 26.43it/s]\n",
            "  0%|          | 0/469 [00:00<?, ?it/s]"
          ],
          "name": "stderr"
        },
        {
          "output_type": "stream",
          "text": [
            "\n",
            "Test set: Average loss: 0.0196, Accuracy: 9935/10000 (99.35%)\n",
            "\n",
            "============== EPOCH  15\n"
          ],
          "name": "stdout"
        },
        {
          "output_type": "stream",
          "text": [
            "epoch=15 Loss=0.060868799686431885 batch_id=00468: 100%|██████████| 469/469 [00:17<00:00, 26.24it/s]\n",
            "  0%|          | 0/469 [00:00<?, ?it/s]"
          ],
          "name": "stderr"
        },
        {
          "output_type": "stream",
          "text": [
            "\n",
            "Test set: Average loss: 0.0201, Accuracy: 9936/10000 (99.36%)\n",
            "\n",
            "============== EPOCH  16\n"
          ],
          "name": "stdout"
        },
        {
          "output_type": "stream",
          "text": [
            "epoch=16 Loss=0.07145451754331589 batch_id=00468: 100%|██████████| 469/469 [00:18<00:00, 25.76it/s]\n",
            "  0%|          | 0/469 [00:00<?, ?it/s]"
          ],
          "name": "stderr"
        },
        {
          "output_type": "stream",
          "text": [
            "\n",
            "Test set: Average loss: 0.0225, Accuracy: 9934/10000 (99.34%)\n",
            "\n",
            "============== EPOCH  17\n"
          ],
          "name": "stdout"
        },
        {
          "output_type": "stream",
          "text": [
            "epoch=17 Loss=0.0233291182667017 batch_id=00468: 100%|██████████| 469/469 [00:18<00:00, 25.50it/s]\n",
            "  0%|          | 0/469 [00:00<?, ?it/s]"
          ],
          "name": "stderr"
        },
        {
          "output_type": "stream",
          "text": [
            "\n",
            "Test set: Average loss: 0.0188, Accuracy: 9944/10000 (99.44%)\n",
            "\n",
            "============== EPOCH  18\n"
          ],
          "name": "stdout"
        },
        {
          "output_type": "stream",
          "text": [
            "epoch=18 Loss=0.026911074295639992 batch_id=00468: 100%|██████████| 469/469 [00:18<00:00, 25.59it/s]\n"
          ],
          "name": "stderr"
        },
        {
          "output_type": "stream",
          "text": [
            "\n",
            "Test set: Average loss: 0.0167, Accuracy: 9948/10000 (99.48%)\n",
            "\n"
          ],
          "name": "stdout"
        }
      ]
    },
    {
      "cell_type": "markdown",
      "metadata": {
        "id": "yqtjK6MCRIqH"
      },
      "source": [
        "### Loss vs. No. of Epochs"
      ]
    },
    {
      "cell_type": "code",
      "metadata": {
        "colab": {
          "base_uri": "https://localhost:8080/",
          "height": 513
        },
        "id": "v3p2owZA7RvN",
        "outputId": "ea0a7bb5-2f3c-4ae5-e1f2-3dec504ed162"
      },
      "source": [
        "def plot_loss(train_loss, test_loss):\n",
        "    plt.figure(figsize=(12, 8))\n",
        "    plt.plot(loss_train,'-x')\n",
        "    plt.plot(loss_test,'-x')\n",
        "    plt.legend(['train_loss', 'test_loss'])\n",
        "    plt.xlabel('epoch')\n",
        "    plt.ylabel('loss')\n",
        "    plt.title('Loss vs. No. of Epochs')\n",
        "    plt.savefig('Loss.png');\n",
        "\n",
        "plot_loss(loss_train,loss_test)"
      ],
      "execution_count": 9,
      "outputs": [
        {
          "output_type": "display_data",
          "data": {
            "image/png": "[encoded data removed]",
            "text/plain": [
              "<Figure size 864x576 with 1 Axes>"
            ]
          },
          "metadata": {
            "tags": [],
            "needs_background": "light"
          }
        }
      ]
    },
    {
      "cell_type": "markdown",
      "metadata": {
        "id": "d570ePJtRMAV"
      },
      "source": [
        "### Accuracy vs. No. of Epochs"
      ]
    },
    {
      "cell_type": "code",
      "metadata": {
        "colab": {
          "base_uri": "https://localhost:8080/",
          "height": 513
        },
        "id": "v5UPjQLj7Y0z",
        "outputId": "0c4f33a2-f74b-428c-c2bf-b8955b87ce4e"
      },
      "source": [
        "def plot_accuracy(train_acc, test_acc):\n",
        "    plt.figure(figsize=(12, 8))\n",
        "    plt.plot(train_acc,'-x')\n",
        "    plt.plot(test_acc,'-x')\n",
        "    plt.legend(['train_acc', 'test_acc'])\n",
        "    plt.xlabel('epoch')\n",
        "    plt.ylabel('accuracy')\n",
        "    plt.title('Accuracy vs. No. of Epochs')\n",
        "    plt.savefig('Accuracy.png');\n",
        "\n",
        "plot_accuracy(accuracy_train,accuracy_test)"
      ],
      "execution_count": 10,
      "outputs": [
        {
          "output_type": "display_data",
          "data": {
            "image/png": "[encoded data removed]",
            "text/plain": [
              "<Figure size 864x576 with 1 Axes>"
            ]
          },
          "metadata": {
            "tags": [],
            "needs_background": "light"
          }
        }
      ]
    },
    {
      "cell_type": "code",
      "metadata": {
        "id": "gqygLPLCTJr5"
      },
      "source": [
        ""
      ],
      "execution_count": null,
      "outputs": []
    }
  ]
}